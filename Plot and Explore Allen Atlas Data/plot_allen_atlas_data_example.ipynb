{
 "cells": [
  {
   "cell_type": "code",
   "execution_count": null,
   "id": "50a22153",
   "metadata": {
    "vscode": {
     "languageId": "julia"
    }
   },
   "outputs": [],
   "source": [
    "# Activate packages in the manifest of this directory\n",
    "using Pkg; Pkg.activate(@__DIR__)"
   ]
  },
  {
   "cell_type": "markdown",
   "id": "d926735e",
   "metadata": {},
   "source": [
    "# Explore and analyse datasets from Allen Coral Atlas and NOAA\n",
    "\n",
    "This script gives an example of downloading, plotting and analysing a series of datasets from open source databases including the Allen Coral Atlas (https://www.allencoralatlas.org/) and NOAA Coral Reef Watch (https://coralreefwatch.noaa.gov) with the intention of selection a region for a reef biodiversity accounting project.\n"
   ]
  },
  {
   "cell_type": "markdown",
   "id": "f68933f1",
   "metadata": {},
   "source": [
    "## Download Allen Atlas Data\n",
    "\n",
    "The following details how to download relevant spatial datafiles from the Allen Coral Atlas, including benthic, geomorphic, depth and turbidity data.\n",
    "\n",
    "### Create an Allen Atlas account\n",
    "\n",
    "First create an Allen Atlas account at https://www.allencoralatlas.org/, and then login using your login details:\n"
   ]
  },
  {
   "cell_type": "markdown",
   "id": "cef29025",
   "metadata": {},
   "source": [
    "![title](figs/allen_atlas_signin.png)"
   ]
  },
  {
   "cell_type": "markdown",
   "id": "4327e167",
   "metadata": {},
   "source": [
    "### Select a region to download\n",
    "\n",
    "First select a region of spatial data to download. This can be done by selecting a predefined region from the dropdown and clicking the download symbol:\n",
    "\n",
    "![dl_region](figs/allen_atlas_download_region.png)\n",
    "\n",
    "You can also select your own region using the selection tool on the left of the map. The selected region is named by entering a name into the box and then data to download from your newly created region can be selected:\n",
    "\n",
    "![select_region](figs/allen_atlas_select_region.png)\n",
    "\n",
    "Select the benthic, geomorphic and extent datasets to download, as well as other datasets you want to include such as bathymetry and turbidity. Use the boxes to specify downloading geopackage type files for the benthic, geomorphic and extent datasets. \n",
    "\n",
    "A link to the files will be sent to the email address included in your account.\n",
    "\n",
    "![dl_all_region](figs/allen_atlas_download_data.png)\n"
   ]
  },
  {
   "cell_type": "markdown",
   "id": "c85e2bb1",
   "metadata": {},
   "source": [
    "## Download NOAA ReefWatch DHW Data\n",
    "\n",
    "First visit the NOAA Reef Watch Thermal History data page at https://coralreefwatch.noaa.gov/product/thermal_history/index.php.\n",
    "\n",
    "![thermal_hist_page](figs/noaa_dhw_product_pag.png)\n",
    "\n",
    "Then download the thermal history netcdf by scrolling down and clicking on Annual History: \n",
    "\n",
    "![net_cdf_dl_link](figs/noaa_netcdf_download.png)"
   ]
  },
  {
   "cell_type": "markdown",
   "id": "8bf99d72",
   "metadata": {},
   "source": [
    "## Define a config file to specify data filepaths\n",
    "\n",
    "The package used to analyse and plot the data requires a `config.toml` file that specifies the file paths for each of the datasets to be used. This should be created and saved in the same directory as the code used to analyse the data. An example `config.toml` file is:"
   ]
  },
  {
   "cell_type": "markdown",
   "id": "5f4a2057",
   "metadata": {},
   "source": [
    "```\n",
    "[bathy_data]\n",
    "allen_bathy = \"./Datapackages/moore_account_whole_domain-20240904025042\\\\Bathymetry---composite-depth\\\\bathymetry_0.tif\"\n",
    "\n",
    "[spatial_data]\n",
    "allen_spatial = \"/Datapackages/Great-Barrier-Reef-and-Torres-Strait-20230310013521\"\n",
    "\n",
    "[dhw_data]\n",
    "noaa_dhw = \"/Datapackages/noaa_crw_thermal_history_annual_history_v3.5.nc\"\n",
    "\n",
    "[other_data]\n",
    "allen_turbid = \"/Datapackages/moore_account_whole_domain-20240904025042\\\\Turbidity-2023\\\\turbidity-annual_0.tif\"\n",
    "\n",
    "```"
   ]
  },
  {
   "cell_type": "markdown",
   "id": "7205d062",
   "metadata": {},
   "source": [
    "## Plot and analyse the datasets\n",
    "\n",
    "Now you can start plotting and analysing the downloaded datasets. First load the required packages in Julia:"
   ]
  },
  {
   "cell_type": "code",
   "execution_count": null,
   "id": "58ed619f",
   "metadata": {
    "vscode": {
     "languageId": "julia"
    }
   },
   "outputs": [],
   "source": [
    "using DataFrames\n",
    "import ReefBiodiversityAccountSetup as RBAS"
   ]
  },
  {
   "cell_type": "markdown",
   "id": "f6616b0d",
   "metadata": {},
   "source": [
    "### Load and plot the spatial datasets\n",
    "\n",
    "The following loads the benthic, geomorphic and reef extent datasets and visualises them spatially. First a dataset of the entire GBR is loaded, then a region around Moore Reef is selected using `get_geo_within_box`. Alternatively, a smaller region can be downloaded so that cropping the data is not necessary."
   ]
  },
  {
   "cell_type": "code",
   "execution_count": null,
   "id": "1d8d6ecf",
   "metadata": {
    "vscode": {
     "languageId": "julia"
    }
   },
   "outputs": [],
   "source": [
    "# config.toml includes info on where the relevant Allen Atlas and NOAA data is saved (see example config.toml file)\n",
    "config_file = RBAS.spatial_analysis.load_config(; config_path=\"config.toml\")\n",
    "# Load spatial datasets\n",
    "benthic, geomorphic, reef_extent = RBAS.spatial_analysis.load_spatial_base(config_file)\n",
    "\n",
    "# Plot gpkgs downloaded from the Allen Coral Atlas, including benthic and geomorphic categories.\n",
    "# Set box limits for loading account data\n",
    "box_upper = (-16.75284, 146.15641)\n",
    "box_lower = (-16.95082, 146.32396)\n",
    "\n",
    "# Get benthic and geomorphic data within the account box\n",
    "benthic = RBAS.spatial_analysis.get_geo_within_box(benthic, box_upper, box_lower)\n",
    "geomorphic = RBAS.spatial_analysis.get_geo_within_box(geomorphic, box_upper, box_lower)\n",
    "extent = RBAS.spatial_analysis.get_geo_within_box(reef_extent, box_upper, box_lower)\n",
    "\n",
    "# Plot benthic and geomorphic data\n",
    "fig_benthic = RBAS.plotting.spatial_map(\n",
    "    benthic,\n",
    "    benthic[:, :class];\n",
    "    opts=Dict(:legend_name => \"Benthic map\",\n",
    "        :color_map => :Accent_5)\n",
    ")\n",
    "fig_geomorphic = RBAS.plotting.spatial_map(\n",
    "    geomorphic,\n",
    "    geomorphic[:, :class];\n",
    "    opts=Dict(:legend_name => \"Geomorphic map\",\n",
    "        :color_map => :hawaii10)\n",
    ")\n",
    "fig_extent = RBAS.plotting.spatial_map(\n",
    "    extent,\n",
    "    extent[:, :class];\n",
    "    opts=Dict(:legend_name => \"Extent map\",\n",
    "        :color_map => :hawaii10)\n",
    ")"
   ]
  },
  {
   "cell_type": "markdown",
   "id": "808c6b43",
   "metadata": {},
   "source": [
    "### Analyse spatial datasets\n",
    "\n",
    "The following manipulates the spatial datasets to understand coral real estate in the region. First the \n",
    "benthic data is filtered for the Coral/Algae/Hard Rock categories and then overlayed on the geomorphic data to understand the \n",
    "geomorphic composition of habitable area."
   ]
  },
  {
   "cell_type": "code",
   "execution_count": null,
   "id": "b0e96c12",
   "metadata": {
    "vscode": {
     "languageId": "julia"
    }
   },
   "outputs": [],
   "source": [
    "# Filter for Coral/Algae type\n",
    "benthic_filtered = RBAS.spatial_analysis.filter_site_area(benthic)\n",
    "\n",
    "# Get intersection of geomorphic polygons and account extent\n",
    "geomorphic_ext = RBAS.spatial_analysis.multipoly_geom_intersection(\n",
    "    extent, geomorphic, :class\n",
    ")\n",
    "\n",
    "# Get intersection of benthic filtered polygons and account extent\n",
    "benthic_ext = RBAS.spatial_analysis.multipoly_geom_intersection(\n",
    "    extent, benthic_filtered, :class\n",
    ")\n",
    "\n",
    "# Get intersection of benthic filtered polygons and geomorphic polygons\n",
    "geomorphic_benthic_comb = RBAS.spatial_analysis.multipoly_geom_intersection(\n",
    "    benthic_ext, geomorphic_ext, :class\n",
    ")\n",
    "\n",
    "fig_geomorphic_ext = RBAS.plotting.spatial_map(\n",
    "    geomorphic_ext,\n",
    "    geomorphic_ext[:, :class];\n",
    "    opts=Dict(:legend_name => \"Geomorphic class\",\n",
    "        :color_map => :hawaii10)\n",
    ")\n",
    "\n",
    "fig_benthic_filtered = RBAS.plotting.spatial_map(\n",
    "    benthic_ext,\n",
    "    benthic_ext[:, :class];\n",
    "    opts=Dict(:legend_name => \"Coral/Rock substrate\",\n",
    "        :color_map => :tab10)\n",
    ")\n",
    "\n",
    "fig_geomorphic_filtered = RBAS.plotting.spatial_map(\n",
    "    geomorphic_benthic_comb,\n",
    "    geomorphic_benthic_comb[:, :class];\n",
    "    opts=Dict(:legend_name => \"Geomorphic categories of Coral/Rock substrate\",\n",
    "        :color_map => :hawaii10)\n",
    ")\n",
    "\n",
    "# Project and add polygon areas and k_areas to gdf\n",
    "geomorphic_filtered = RBAS.spatial_analysis.set_reef_k(\n",
    "    geomorphic_ext, benthic_ext)\n",
    "\n",
    "# Plot area as spatial heat map\n",
    "fig_k_filtered = RBAS.plotting.spatial_map(\n",
    "    geomorphic_filtered,\n",
    "    geomorphic_filtered[:, :k];\n",
    "    opts=Dict(:colorbar_label => \"k area\",\n",
    "        :color_map => :lighttest)\n",
    ")\n"
   ]
  },
  {
   "cell_type": "markdown",
   "id": "6fdfe683",
   "metadata": {},
   "source": [
    "### Integrate other environmental layers\n",
    "\n",
    "The following adds information on depth, median DHWs and turbidity using zonal statistics."
   ]
  },
  {
   "cell_type": "code",
   "execution_count": null,
   "id": "bb02a58f",
   "metadata": {
    "vscode": {
     "languageId": "julia"
    }
   },
   "outputs": [],
   "source": [
    "# Extract depths from raster file\n",
    "geomorphic_filtered, depths = RBAS.spatial_analysis.median_features_allen(\n",
    "    geomorphic_filtered, config_file; is_depth=true\n",
    ")\n",
    "\n",
    "# Plot depths\n",
    "fig_depth = RBAS.plotting.spatial_map(\n",
    "    geomorphic_filtered,\n",
    "    geomorphic_filtered[:, :depth_med];\n",
    "    opts=Dict(:colorbar_label => \"Median depth\",\n",
    "        :color_map => :lighttest)\n",
    ")\n",
    "\n",
    "# Extract broadscale NOAA DHWs\n",
    "geomorphic_filtered, dhws = RBAS.spatial_analysis.noaa_dhw_means(geomorphic_filtered, config_file)\n",
    "\n",
    "# Plot mean and std for dhws\n",
    "fig_dhw_mean = RBAS.plotting.spatial_map(\n",
    "    geomorphic_filtered,\n",
    "    geomorphic_filtered[:, :dhw_hist_mean];\n",
    "    opts=Dict(:colorbar_label => \"Mean max dhw\",\n",
    "        :color_map => :lighttest)\n",
    ")\n",
    "fig_dhw_std = RBAS.plotting.spatial_map(\n",
    "    geomorphic_filtered,\n",
    "    geomorphic_filtered[:, :dhw_hist_sd];\n",
    "    opts=Dict(:colorbar_label => \"Std max dhw\",\n",
    "        :color_map => :lighttest)\n",
    ")\n",
    "\n",
    "# Allen atlas turbidity data\n",
    "turb_fn = config_file[\"other_data\"][\"allen_turbid\"]\n",
    "\n",
    "# Add turbidity data from Allen Atlas\n",
    "geomorphic_filtered, turbidity = RBAS.spatial_analysis.median_features_allen(\n",
    "    geomorphic_filtered, turb_fn; data_name=:turb_med\n",
    ")\n",
    "\n",
    "fig_turb_med = RBAS.plotting.spatial_map(\n",
    "    geomorphic_filtered,\n",
    "    geomorphic_filtered[:, :turb_med];\n",
    "    opts=Dict(:colorbar_label => \"Turbidity mean\",\n",
    "        :color_map => :lighttest)\n",
    ")\n"
   ]
  },
  {
   "cell_type": "markdown",
   "id": "5e73b9ff",
   "metadata": {},
   "source": [
    "### Evaluate potential impact and control sites in the region\n",
    "\n",
    "Next we sse the aggregated spatial and environmental data as criteria to evaluate site suitability for a restoration project.\n",
    "We also evaluate suitable control sites for the suggested impact sites using similarity to specified criteria."
   ]
  },
  {
   "cell_type": "code",
   "execution_count": null,
   "id": "60a40e49",
   "metadata": {
    "vscode": {
     "languageId": "julia"
    }
   },
   "outputs": [],
   "source": [
    "# Add k area as a selection criteria\n",
    "geomorphic_filtered[!, \"k_area\"] = geomorphic_filtered[:,\"k\"].*geomorphic_filtered[:,\"area\"]\n",
    "\n",
    "# Define which columns of the dataset to use as criteria\n",
    "criteria = [\"class\", \"depth_med\", \"dhw_hist_mean\", \"turb_med\", \"k_area\"]\n",
    "geomorphic_filtered[!, \"site_id\"] = collect(1:size(geomorphic_filtered, 1))\n",
    "\n",
    "# Calculate a rating for each polygon to determine suitability according to the defined criteria.\n",
    "# Here only sheltered reef slope type sites are considered\n",
    "impact_site_rating = RBAS.spatial_analysis.suggest_impact_sites(geomorphic_filtered, criteria, \"Sheltered Reef Slope\")\n",
    "\n",
    "# Plot the site ratings as a heat map\n",
    "fig_impact= RBAS.plotting.spatial_map(\n",
    "    geomorphic_filtered[Int.(impact_site_rating[:, :Sites]),:],\n",
    "    impact_site_rating[:, :Rating];\n",
    "    opts=Dict(:colorbar_label => \"Impact site rating\",\n",
    "        :color_map => :lighttest)\n",
    ")\n",
    "\n",
    "# Suggest control sites for a particular impact site (e.g. 5), using the criteria in geomorphic_filtered's columns\n",
    "# The input [:class] specifies that the selected control sites must be of the same geomorphic class as the impact site\n",
    "control_site_list = RBAS.spatial_analysis.suggest_control_sites(5, geomorphic_filtered[:, Not(:geom)], [:class]; ID_COLUMN=:site_id)\n"
   ]
  }
 ],
 "metadata": {
  "language_info": {
   "name": "python"
  }
 },
 "nbformat": 4,
 "nbformat_minor": 5
}
